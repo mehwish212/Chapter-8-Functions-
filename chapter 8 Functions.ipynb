{
 "cells": [
  {
   "cell_type": "code",
   "execution_count": 2,
   "metadata": {},
   "outputs": [
    {
     "name": "stdout",
     "output_type": "stream",
     "text": [
      "What you are learning about in this chapter .\n"
     ]
    }
   ],
   "source": [
    "#try It yourself 8-1. Message\n",
    "\n",
    "def display_message():\n",
    "    print(\"What you are learning about in this chapter .\")\n",
    "\n",
    "display_message()"
   ]
  },
  {
   "cell_type": "code",
   "execution_count": 1,
   "metadata": {},
   "outputs": [
    {
     "name": "stdout",
     "output_type": "stream",
     "text": [
      "{'Artist': 'laqa', 'Title': 'peace', 'Tracks': 45}\n",
      "{'Artist': 'kashif', 'Title': 'new life'}\n",
      "{'Artist': 'justin', 'Title': 'rocks', 'Tracks': 37}\n"
     ]
    }
   ],
   "source": [
    "def  make_album(artist_name, album_title, tracks= 0):\n",
    "    \n",
    "    if tracks :\n",
    "        \n",
    "        return {'Artist':artist_name, 'Title':  album_title, 'Tracks':tracks}\n",
    "    \n",
    "    else:\n",
    "    \n",
    "        return {'Artist':artist_name, 'Title':  album_title}\n",
    "\n",
    "\n",
    "album = make_album('laqa','peace',45)\n",
    "print(album)\n",
    "\n",
    "album = make_album('kashif','new life')\n",
    "print(album)\n",
    "\n",
    "album = make_album('justin','rocks',37)\n",
    "print(album)"
   ]
  },
  {
   "cell_type": "code",
   "execution_count": 5,
   "metadata": {},
   "outputs": [
    {
     "name": "stdout",
     "output_type": "stream",
     "text": [
      "One of my favorite book is Python Crash Course.\n"
     ]
    }
   ],
   "source": [
    "#try It yourself 8-2. Favorite Book:\n",
    "\n",
    "def  favorite_book(title):\n",
    "    print(\"One of my favorite book is \"+title.title()+'.')\n",
    "    \n",
    "favorite_book('python crash course')"
   ]
  },
  {
   "cell_type": "code",
   "execution_count": 5,
   "metadata": {},
   "outputs": [
    {
     "name": "stdout",
     "output_type": "stream",
     "text": [
      "i want large shirt.\n",
      "I like long shirts.\n",
      "i want medium shirt.\n",
      "I don't like small shirts.\n"
     ]
    }
   ],
   "source": [
    "#try It yourself 8-3. T-Shirt:\n",
    "\n",
    "def make_shirt(size, text):\n",
    "        print('i want '+size+' shirt.')\n",
    "        print(text)\n",
    "        \n",
    "make_shirt('large', 'I like long shirts.')\n",
    "make_shirt(size = 'medium', text =\"I don't like small shirts.\")\n"
   ]
  },
  {
   "cell_type": "code",
   "execution_count": 9,
   "metadata": {},
   "outputs": [
    {
     "name": "stdout",
     "output_type": "stream",
     "text": [
      "Do you need large shirt?\n",
      "I love python.\n",
      "Do you need medium shirt?\n",
      "I love python.\n",
      "Do you need small shirt?\n",
      "Sorry, small shirts are not available.\n"
     ]
    }
   ],
   "source": [
    "#try It yourself  8-4. Large Shirts:\n",
    "\n",
    "def make_shirt(size = 'large', text = 'I love python.'):\n",
    "        print('Do you need '+size+' shirt?')\n",
    "        print(text)\n",
    "    \n",
    "make_shirt()\n",
    "make_shirt(size = 'medium')\n",
    "make_shirt(size = 'small', text =\"Sorry, small shirts are not available.\")\n"
   ]
  },
  {
   "cell_type": "code",
   "execution_count": 10,
   "metadata": {},
   "outputs": [
    {
     "name": "stdout",
     "output_type": "stream",
     "text": [
      "Shanghai is in China\n",
      "Hangzhou is in China\n",
      "Bombay is in India\n"
     ]
    }
   ],
   "source": [
    "# try It yourself 8-5. Cities:\n",
    "\n",
    "def describe_city(city, country = 'china'):\n",
    "    print(city.title()+' is in '+country.title())\n",
    "    \n",
    "\n",
    "describe_city('shanghai')\n",
    "describe_city('hangzhou')\n",
    "describe_city('bombay', 'india')\n",
    "\n"
   ]
  },
  {
   "cell_type": "code",
   "execution_count": 16,
   "metadata": {},
   "outputs": [
    {
     "name": "stdout",
     "output_type": "stream",
     "text": [
      "Chennai, India\n",
      "Hong Kong, China\n",
      "Islamabad, Pakistan\n"
     ]
    }
   ],
   "source": [
    "#try It yourself 8-6. City Names:\n",
    "\n",
    "def city_country(city , country):\n",
    "    \n",
    "    full_name = city.title()+ ', '+country.title()\n",
    "    return    full_name\n",
    "msg = city_country('chennai' , 'india')\n",
    "print(msg)\n",
    "\n",
    "msg = city_country('hong kong' , 'china')\n",
    "print(msg)\n",
    "\n",
    "msg = city_country('islamabad' , 'pakistan')\n",
    "print(msg)    "
   ]
  },
  {
   "cell_type": "code",
   "execution_count": 19,
   "metadata": {},
   "outputs": [
    {
     "name": "stdout",
     "output_type": "stream",
     "text": [
      "{'Artist': 'Justin', 'Album': 'Peace Of World'}\n",
      "{'Artist': 'Alqa', 'Album': 'Tary Liye'}\n",
      "{'Artist': 'Seleena', 'Album': 'Affection'}\n"
     ]
    }
   ],
   "source": [
    "#try It yourself  8-7. Album:\n",
    "\n",
    "def make_album(artist_name, album_title):\n",
    "    \n",
    "    music_album = {'Artist':artist_name.title(),'Album':album_title.title()}\n",
    "    return  music_album\n",
    "\n",
    "album =  make_album('justin','peace of world')\n",
    "print(album)\n",
    "\n",
    "album =  make_album('alqa','tary liye')\n",
    "print(album)\n",
    "\n",
    "album =  make_album('seleena','affection')\n",
    "print(album)"
   ]
  },
  {
   "cell_type": "code",
   "execution_count": 37,
   "metadata": {},
   "outputs": [
    {
     "name": "stdout",
     "output_type": "stream",
     "text": [
      "{'Artist': 'Justin', 'Album': 'Peace Of World', 'Tracks': 5}\n",
      "{'Artist': 'Alqa', 'Album': 'Tary Liye', 'Tracks': 56}\n",
      "{'Artist': 'Seleena', 'Album': 'Affection'}\n"
     ]
    }
   ],
   "source": [
    "#The new version of 8-7. Album:\n",
    "\n",
    "\n",
    "def make_album(artist_name, album_title ,no_of_tracks=0):\n",
    "    \n",
    "    music_album = {'Artist':artist_name.title(),'Album':album_title.title()}\n",
    "\n",
    "    if no_of_tracks:\n",
    "        music_album['Tracks'] = no_of_tracks\n",
    "        \n",
    "    return  music_album\n",
    "\n",
    "album =  make_album('justin','peace of world',no_of_tracks=5)\n",
    "print(album)\n",
    "\n",
    "album =  make_album('alqa','tary liye',56)\n",
    "print(album)\n",
    "\n",
    "album =  make_album('seleena','affection')\n",
    "print(album)"
   ]
  },
  {
   "cell_type": "code",
   "execution_count": 57,
   "metadata": {},
   "outputs": [
    {
     "name": "stdout",
     "output_type": "stream",
     "text": [
      "\n",
      "\n",
      "Enter an artist name.lata\n",
      "Enter the title of album.mousum\n",
      "{'Artist': 'Lata', 'Album': 'Mousum'}\n",
      "\n",
      "\n",
      "Enter an artist name.alqa\n",
      "Enter the title of album.tanhaiyan\n",
      "{'Artist': 'Alqa', 'Album': 'Tanhaiyan'}\n",
      "\n",
      "\n",
      "Enter an artist name.q\n"
     ]
    }
   ],
   "source": [
    "##try It yourself 8-8. User Albums:\n",
    "\n",
    "def make_album(artist_name, album_title ,no_of_tracks=0):\n",
    "    \n",
    "    music_album = {'Artist':artist_name.title(),'Album':album_title.title()}\n",
    "\n",
    "    return  music_album\n",
    "    \n",
    "while True:\n",
    "    #print('\\nEnter your Artist name and title')\n",
    "    #print(\"Enter 'q' at any time to quit the program\")\n",
    "    \n",
    "    print('\\n')\n",
    "    name = input('Enter an artist name.')\n",
    "    if name == 'q':\n",
    "        break\n",
    "        \n",
    "    title = input('Enter the title of album.')\n",
    "    if name == 'q':\n",
    "        break\n",
    "            \n",
    "    album = make_album(name, title)\n",
    "    print(album)\n",
    "    \n"
   ]
  },
  {
   "cell_type": "code",
   "execution_count": 60,
   "metadata": {},
   "outputs": [
    {
     "name": "stdout",
     "output_type": "stream",
     "text": [
      "Hey,Alice\n",
      "Hey,Brain\n",
      "Hey,Caffo\n"
     ]
    }
   ],
   "source": [
    "#try It yourself 8-9. Magicians:\n",
    "\n",
    "def  show_magicians(magicians):\n",
    "    \n",
    "    for magician in magicians:\n",
    "        print('Hey,'+magician.title())\n",
    "        \n",
    "magicians = ['alice','brain','caffo']\n",
    "show_magicians(magicians)"
   ]
  },
  {
   "cell_type": "code",
   "execution_count": 86,
   "metadata": {},
   "outputs": [
    {
     "name": "stdout",
     "output_type": "stream",
     "text": [
      "Hey,Alice\n",
      "Hey,Brain\n",
      "Hey,Caffo\n",
      "\n",
      "\n",
      "The Great Caffo\n",
      "The Great Brain\n",
      "The Great Alice\n"
     ]
    }
   ],
   "source": [
    "#try It yourself 8-10. Great Magicians:\n",
    "\n",
    "def make_great(magicians):\n",
    "    \n",
    "    for magician in magicians:\n",
    "        print(magician.title())\n",
    "        \n",
    "# greeting to magician\n",
    "def make_great(magicians):\n",
    "    \n",
    "    great_magicians = []\n",
    "\n",
    "    while magicians:\n",
    "        current_magician = magicians.pop()\n",
    "        great = 'The Great '+current_magician\n",
    "        great_magicians.append(great)\n",
    "    \n",
    "    for great_magician in great_magicians:\n",
    "        print(great_magician.title())\n",
    "    \n",
    "magicians = ['alice','brain','caffo']\n",
    "show_magicians(magicians)\n",
    "\n",
    "print('\\n')\n",
    "make_great(magicians)\n",
    "show_magicians(magicians)"
   ]
  },
  {
   "cell_type": "code",
   "execution_count": 87,
   "metadata": {},
   "outputs": [
    {
     "name": "stdout",
     "output_type": "stream",
     "text": [
      "Hey,Alice\n",
      "Hey,Brain\n",
      "Hey,Caffo\n",
      "\n",
      "Great magicians:\n",
      "Hey,Caffo The Great\n",
      "Hey,Brain The Great\n",
      "Hey,Alice The Great\n",
      "\n",
      "Original magicians:\n",
      "Hey,Alice\n",
      "Hey,Brain\n",
      "Hey,Caffo\n"
     ]
    }
   ],
   "source": [
    "# try It yourself 8-11. Unchanged Magicians \n",
    "\n",
    "def make_great(magicians):\n",
    "    \n",
    "    for magician in magicians:\n",
    "        print(magician.title())\n",
    "        \n",
    "# greeting to magician\n",
    "def make_great(magicians):\n",
    "    \n",
    "    great_magicians = []\n",
    "\n",
    "    while magicians:\n",
    "        current_magician = magicians.pop()\n",
    "        great = current_magician+' The Great'\n",
    "        great_magicians.append(great)\n",
    "    \n",
    "    for great_magician in great_magicians:\n",
    "        magicians.append(great_magician.title())\n",
    "        \n",
    "    return magicians\n",
    "    \n",
    "magicians = ['alice','brain','caffo']\n",
    "show_magicians(magicians)\n",
    "\n",
    "print(\"\\nGreat magicians:\")\n",
    "great_magicians = make_great(magicians[:])\n",
    "show_magicians(great_magicians)\n",
    "\n",
    "print(\"\\nOriginal magicians:\")\n",
    "show_magicians(magicians)"
   ]
  },
  {
   "cell_type": "code",
   "execution_count": 1,
   "metadata": {},
   "outputs": [
    {
     "name": "stdout",
     "output_type": "stream",
     "text": [
      "\n",
      "You ordered following sandwiches:\n",
      "- club sandwich\n",
      "\n",
      "You ordered following sandwiches:\n",
      "- club sandwich\n",
      "- chicken sandiwch\n",
      "\n",
      "You ordered following sandwiches:\n",
      "- club sandwich\n",
      "- chicken sandiwch\n",
      "- cheese sandwich\n"
     ]
    }
   ],
   "source": [
    "#try It yourself 8-12. Sandwiches:\n",
    "\n",
    "def person(*sandwiches):\n",
    "    \n",
    "    print('\\nYou ordered following sandwiches:')\n",
    "    for sandwich in sandwiches:\n",
    "        print('- '+sandwich)\n",
    "        \n",
    "person('club sandwich')\n",
    "person('club sandwich','chicken sandiwch')\n",
    "person('club sandwich','chicken sandiwch','cheese sandwich')"
   ]
  },
  {
   "cell_type": "code",
   "execution_count": 102,
   "metadata": {},
   "outputs": [
    {
     "name": "stdout",
     "output_type": "stream",
     "text": [
      "{'first_name': 'waqar', 'last_name': 'hassan', 'age': 20, 'city': 'karachi'}\n"
     ]
    }
   ],
   "source": [
    "#try It yourself 8-13. User Profile:\n",
    "\n",
    "def build_profile(first, last, **user_info):\n",
    "    \n",
    "    users = {}\n",
    "    users['first_name'] = first\n",
    "    users['last_name'] = last\n",
    "    \n",
    "    for key, value in user_info.items():\n",
    "        users[key] = value\n",
    "        \n",
    "    return users\n",
    "\n",
    "profile = build_profile('waqar','hassan',age=20,city='karachi')\n",
    "print(profile)\n",
    "    \n",
    "    \n",
    "    "
   ]
  },
  {
   "cell_type": "code",
   "execution_count": 103,
   "metadata": {},
   "outputs": [
    {
     "name": "stdout",
     "output_type": "stream",
     "text": [
      "{'manufacturer': 'Mehran', 'model': 'Outback', 'color': 'blue', 'tow_package': True}\n",
      "{'manufacturer': 'Honda', 'model': 'Accord', 'year': 1991, 'color': 'white', 'headlights': 'popup'}\n"
     ]
    }
   ],
   "source": [
    "#try It yourself  8-14. Cars:\n",
    "\n",
    "def make_car(manufacturer, model, **car_info):\n",
    "    \"\"\"Make a dictionary representing a car.\"\"\"\n",
    "    car_dict = {\n",
    "        'manufacturer': manufacturer.title(),\n",
    "        'model': model.title(),\n",
    "        }\n",
    "    \n",
    "    for key, value in car_info.items():\n",
    "        car_dict[key] = value\n",
    "\n",
    "    return car_dict\n",
    "\n",
    "my_car = make_car('mehran', 'outback', color='blue', tow_package=True)\n",
    "print(my_car)\n",
    "\n",
    "your_car = make_car('honda', 'accord', year=1991, color='white',\n",
    "        headlights='popup')\n",
    "print(your_car)"
   ]
  }
 ],
 "metadata": {
  "kernelspec": {
   "display_name": "Python 3",
   "language": "python",
   "name": "python3"
  },
  "language_info": {
   "codemirror_mode": {
    "name": "ipython",
    "version": 3
   },
   "file_extension": ".py",
   "mimetype": "text/x-python",
   "name": "python",
   "nbconvert_exporter": "python",
   "pygments_lexer": "ipython3",
   "version": "3.6.1"
  }
 },
 "nbformat": 4,
 "nbformat_minor": 2
}
